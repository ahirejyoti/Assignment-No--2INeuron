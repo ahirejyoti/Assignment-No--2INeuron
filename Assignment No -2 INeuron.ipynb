{
 "cells": [
  {
   "cell_type": "markdown",
   "metadata": {},
   "source": [
    "🎯Analyzing Road Safety in the UK"
   ]
  },
  {
   "cell_type": "markdown",
   "metadata": {},
   "source": [
    "Use aggregate functions in SQL and Python to answer the following sample questions:\n"
   ]
  },
  {
   "cell_type": "markdown",
   "metadata": {},
   "source": [
    "1. Evaluate the median severity value of accidents caused by various Motorcycles."
   ]
  },
  {
   "cell_type": "code",
   "execution_count": null,
   "metadata": {},
   "outputs": [],
   "source": [
    " # SQL Approach\n",
    "    -- SQL Query to Calculate Median Severity for Motorcycle Accidents\n",
    "SELECT\n",
    "    (SELECT Severity\n",
    "     FROM (SELECT Severity, ROW_NUMBER() OVER (ORDER BY Severity) AS RowAsc\n",
    "           FROM Accident\n",
    "           WHERE Vehicle_Type = 'Motorcycle'\n",
    "           AND Severity IS NOT NULL) AS T1\n",
    "     WHERE T1.RowAsc = (SELECT (COUNT(*) + 1) / 2 FROM Accident WHERE Vehicle_Type = 'Motorcycle' AND Severity IS NOT NULL)\n",
    "    ) AS Median_Severity;\n"
   ]
  },
  {
   "cell_type": "code",
   "execution_count": null,
   "metadata": {},
   "outputs": [],
   "source": [
    "# Python Approach\n",
    "import pandas as pd\n",
    "\n",
    "# Assuming you've loaded the dataset into a DataFrame named accident_data\n",
    "# Filter the dataset for Motorcycle accidents and remove rows with missing Severity values\n",
    "motorcycle_accidents = accident_data[(accident_data['Vehicle_Type'] == 'Motorcycle') & (~accident_data['Severity'].isnull())]\n",
    "\n",
    "# Calculate the median Severity\n",
    "median_severity = motorcycle_accidents['Severity'].median()\n",
    "\n",
    "print(\"Median Severity for Motorcycle Accidents:\", median_severity)\n"
   ]
  },
  {
   "cell_type": "markdown",
   "metadata": {},
   "source": [
    "2. Evaluate Accident Severity and Total Accidents per Vehicle Type"
   ]
  },
  {
   "cell_type": "code",
   "execution_count": null,
   "metadata": {},
   "outputs": [],
   "source": [
    "#SQL Approach\n",
    "-- SQL Query to Evaluate Accident Severity and Total Accidents per Vehicle Type\n",
    "SELECT\n",
    "    Vehicle_Type,\n",
    "    COUNT(*) AS Total_Accidents,\n",
    "    AVG(Severity) AS Avg_Severity\n",
    "FROM Accident\n",
    "WHERE Vehicle_Type IS NOT NULL\n",
    "GROUP BY Vehicle_Type\n",
    "ORDER BY Avg_Severity DESC;\n"
   ]
  },
  {
   "cell_type": "code",
   "execution_count": null,
   "metadata": {},
   "outputs": [],
   "source": [
    "#Python Approach\n",
    "import pandas as pd\n",
    "\n",
    "# Assuming you've loaded the dataset into a DataFrame named accident_data\n",
    "# Filter out rows with missing vehicle types and severities\n",
    "filtered_data = accident_data.dropna(subset=['Vehicle_Type', 'Severity'])\n",
    "\n",
    "# Group by vehicle type and calculate total accidents and average severity\n",
    "result = filtered_data.groupby('Vehicle_Type').agg({\n",
    "    'Severity': 'mean',\n",
    "    'Accident_Index': 'count'\n",
    "}).reset_index()\n",
    "\n",
    "# Rename columns for clarity\n",
    "result.rename(columns={'Severity': 'Avg_Severity', 'Accident_Index': 'Total_Accidents'}, inplace=True)\n",
    "\n",
    "# Sort by average severity in descending order\n",
    "result = result.sort_values(by='Avg_Severity', ascending=False)\n",
    "\n",
    "print(result)\n"
   ]
  },
  {
   "cell_type": "markdown",
   "metadata": {},
   "source": [
    "3. Calculate the Average Severity by vehicle type."
   ]
  },
  {
   "cell_type": "code",
   "execution_count": null,
   "metadata": {},
   "outputs": [],
   "source": [
    "#SQL Approach\n",
    "-- SQL Query to Calculate Average Severity by Vehicle Type\n",
    "SELECT\n",
    "    Vehicle_Type,\n",
    "    AVG(Severity) AS Avg_Severity\n",
    "FROM Accident\n",
    "WHERE Vehicle_Type IS NOT NULL\n",
    "GROUP BY Vehicle_Type;\n"
   ]
  },
  {
   "cell_type": "code",
   "execution_count": null,
   "metadata": {},
   "outputs": [],
   "source": [
    "#Python Approach\n",
    "import pandas as pd\n",
    "\n",
    "# Assuming you've loaded the dataset into a DataFrame named accident_data\n",
    "# Filter out rows with missing vehicle types and severities\n",
    "filtered_data = accident_data.dropna(subset=['Vehicle_Type', 'Severity'])\n",
    "\n",
    "# Group by vehicle type and calculate average severity\n",
    "result = filtered_data.groupby('Vehicle_Type')['Severity'].mean().reset_index()\n",
    "\n",
    "# Rename the column for clarity\n",
    "result.rename(columns={'Severity': 'Avg_Severity'}, inplace=True)\n",
    "\n",
    "print(result)\n"
   ]
  },
  {
   "cell_type": "markdown",
   "metadata": {},
   "source": [
    "4. Calculate the Average Severity and Total Accidents by Motorcycle."
   ]
  },
  {
   "cell_type": "code",
   "execution_count": null,
   "metadata": {},
   "outputs": [],
   "source": [
    "#SQL Approach\n",
    "-- SQL Query to Calculate Average Severity and Total Accidents for Motorcycles\n",
    "SELECT\n",
    "    'Motorcycle' AS Vehicle_Type,\n",
    "    AVG(Severity) AS Avg_Severity,\n",
    "    COUNT(*) AS Total_Accidents\n",
    "FROM Accident\n",
    "WHERE Vehicle_Type = 'Motorcycle';\n"
   ]
  },
  {
   "cell_type": "code",
   "execution_count": null,
   "metadata": {},
   "outputs": [],
   "source": [
    "#Python Approach\n",
    "import pandas as pd\n",
    "\n",
    "# Assuming you've loaded the dataset into a DataFrame named accident_data\n",
    "# Filter out rows with missing vehicle types and severities\n",
    "filtered_data = accident_data.dropna(subset=['Vehicle_Type', 'Severity'])\n",
    "\n",
    "# Filter data to include only motorcycle accidents\n",
    "motorcycle_data = filtered_data[filtered_data['Vehicle_Type'] == 'Motorcycle']\n",
    "\n",
    "# Calculate the average severity for motorcycles\n",
    "avg_severity = motorcycle_data['Severity'].mean()\n",
    "\n",
    "# Calculate the total number of accidents involving motorcycles\n",
    "total_accidents = len(motorcycle_data)\n",
    "\n",
    "print(\"Average Severity for Motorcycles:\", avg_severity)\n",
    "print(\"Total Accidents Involving Motorcycles:\", total_accidents)\n"
   ]
  },
  {
   "cell_type": "markdown",
   "metadata": {},
   "source": [
    "🎯Analyzing the World Population"
   ]
  },
  {
   "cell_type": "markdown",
   "metadata": {},
   "source": [
    "1. Which country has the highest population?"
   ]
  },
  {
   "cell_type": "code",
   "execution_count": null,
   "metadata": {},
   "outputs": [],
   "source": [
    "#SQL Approach\n",
    "SELECT MAX(population) AS max_population_country\n",
    "FROM your_table_name;\n"
   ]
  },
  {
   "cell_type": "markdown",
   "metadata": {},
   "source": [
    "2. Which country has the least number of people?"
   ]
  },
  {
   "cell_type": "code",
   "execution_count": null,
   "metadata": {},
   "outputs": [],
   "source": [
    "SELECT MIN(population) AS min_population_country\n",
    "FROM your_table_name;\n"
   ]
  },
  {
   "cell_type": "markdown",
   "metadata": {},
   "source": [
    "3. Which country is witnessing the highest population growth?"
   ]
  },
  {
   "cell_type": "code",
   "execution_count": null,
   "metadata": {},
   "outputs": [],
   "source": [
    "SELECT country_name\n",
    "FROM your_table_name\n",
    "ORDER BY population_growth DESC\n",
    "LIMIT 1;\n"
   ]
  },
  {
   "cell_type": "markdown",
   "metadata": {},
   "source": [
    "4. Which country has an extraordinary number for the population?"
   ]
  },
  {
   "cell_type": "code",
   "execution_count": null,
   "metadata": {},
   "outputs": [],
   "source": [
    "SELECT country_name, population\n",
    "FROM your_table_name\n",
    "WHERE population > (SELECT AVG(population) + 2 * STDDEV_POP(population) FROM your_table_name);\n"
   ]
  },
  {
   "cell_type": "markdown",
   "metadata": {},
   "source": [
    "5. Which is the most densely populated country in the world?"
   ]
  },
  {
   "cell_type": "code",
   "execution_count": null,
   "metadata": {},
   "outputs": [],
   "source": [
    "SELECT country_name\n",
    "FROM your_table_name\n",
    "ORDER BY population / area DESC\n",
    "LIMIT 1;\n"
   ]
  },
  {
   "cell_type": "code",
   "execution_count": null,
   "metadata": {},
   "outputs": [],
   "source": []
  },
  {
   "cell_type": "code",
   "execution_count": null,
   "metadata": {},
   "outputs": [],
   "source": []
  }
 ],
 "metadata": {
  "kernelspec": {
   "display_name": "Python 3",
   "language": "python",
   "name": "python3"
  },
  "language_info": {
   "codemirror_mode": {
    "name": "ipython",
    "version": 3
   },
   "file_extension": ".py",
   "mimetype": "text/x-python",
   "name": "python",
   "nbconvert_exporter": "python",
   "pygments_lexer": "ipython3",
   "version": "3.8.3"
  }
 },
 "nbformat": 4,
 "nbformat_minor": 4
}
